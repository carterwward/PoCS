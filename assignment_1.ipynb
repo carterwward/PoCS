{
 "cells": [
  {
   "cell_type": "code",
   "execution_count": 79,
   "source": [
    "import pandas as pd\n",
    "import matplotlib.pyplot as plt\n",
    "from scipy import stats\n",
    "import numpy as np"
   ],
   "outputs": [],
   "metadata": {}
  },
  {
   "cell_type": "code",
   "execution_count": 80,
   "source": [
    "wl_df = pd.read_csv(\"hw1_data.csv\")\n",
    "wl_df = wl_df.drop([\"Unnamed: 0\"], axis=1)"
   ],
   "outputs": [],
   "metadata": {}
  },
  {
   "cell_type": "code",
   "execution_count": 81,
   "source": [
    "def apply_scale(l):\n",
    "    return [x**(2/3) for x in l]"
   ],
   "outputs": [],
   "metadata": {}
  },
  {
   "cell_type": "code",
   "execution_count": 82,
   "source": [
    "wl_df_m = wl_df[wl_df[\"sex\"] == \"m\"]\n",
    "wl_df_f = wl_df[wl_df[\"sex\"] == \"f\"]"
   ],
   "outputs": [],
   "metadata": {}
  },
  {
   "cell_type": "code",
   "execution_count": 84,
   "source": [
    "m_total = stats.linregress(np.log10(wl_df_m[\"body mass\"]), np.log10(wl_df_m[\"total\"]))\n",
    "m_snatch = stats.linregress(np.log10(wl_df_m[\"body mass\"]), np.log10(wl_df_m[\"snatch\"]))\n",
    "m_clean = stats.linregress(np.log10(wl_df_m[\"body mass\"]), np.log10(wl_df_m[\"clean_and_jerk\"]))\n",
    "\n",
    "f_total = stats.linregress(np.log10(wl_df_f[\"body mass\"]), np.log10(wl_df_f[\"total\"]))\n",
    "f_snatch = stats.linregress(np.log10(wl_df_f[\"body mass\"]), np.log10(wl_df_f[\"snatch\"]))\n",
    "f_clean = stats.linregress(np.log10(wl_df_f[\"body mass\"]), np.log10(wl_df_f[\"clean_and_jerk\"]))"
   ],
   "outputs": [],
   "metadata": {}
  },
  {
   "cell_type": "code",
   "execution_count": 92,
   "source": [
    "for index, row in wl_df_m.iterrows():\n",
    "    bm = row['body mass']\n",
    "\n",
    "    total = row['total']\n",
    "    c_total = 10**m_total.intercept\n",
    "    b_total = m_total.slope\n",
    "\n",
    "    scaled = 100 * ((total / (c_total * (bm**b_total))) -1)\n",
    "\n",
    "    print(\"scaled:\", scaled)\n",
    "\n",
    "    snatch = row['snatch']\n",
    "    c_snatch = 10**m_snatch.intercept\n",
    "    b_snatch = m_snatch.slope\n",
    "\n",
    "    scaled_sn = 100 * ((snatch / (c_snatch * (bm**b_snatch))) -1)\n",
    "\n",
    "    print(\"scaled snatch:\", scaled_sn)\n",
    "\n",
    "    clean = row['clean_and_jerk']\n",
    "    c_clean = 10**m_clean.intercept\n",
    "    b_clean = m_clean.slope\n",
    "\n",
    "    scaled_clean = 100 * ((clean / (c_clean * (bm**b_clean))) -1)\n",
    "\n",
    "    print(\"scaled clean:\", scaled_clean)\n",
    "\n",
    "\n",
    "\n"
   ],
   "outputs": [
    {
     "output_type": "stream",
     "name": "stdout",
     "text": [
      "scaled: -4.408708846994546\n",
      "scaled snatch: -4.534090422884263\n",
      "scaled clean: -5.113081829298405\n",
      "scaled: -2.4156819700331233\n",
      "scaled snatch: -2.3345824018555894\n",
      "scaled clean: -0.5905037266787705\n",
      "scaled: 3.3091344894107033\n",
      "scaled snatch: 3.6376032115369217\n",
      "scaled clean: 1.7515145757208028\n",
      "scaled: 1.7358007255584784\n",
      "scaled snatch: 1.6813280343529469\n",
      "scaled clean: 0.6166206425438858\n",
      "scaled: 2.025521313058376\n",
      "scaled snatch: 2.0532486837390618\n",
      "scaled clean: 3.7722643944990253\n",
      "scaled: 3.6184086400379067\n",
      "scaled snatch: 3.198636809354216\n",
      "scaled clean: 3.959542060182919\n",
      "scaled: -3.518650465686868\n",
      "scaled snatch: -3.361204436154075\n",
      "scaled clean: -4.0136395017785205\n"
     ]
    }
   ],
   "metadata": {}
  },
  {
   "cell_type": "code",
   "execution_count": 91,
   "source": [
    "for index, row in wl_df_f.iterrows():\n",
    "    bm = row['body mass']\n",
    "\n",
    "    total = row['total']\n",
    "    c_total = 10**f_total.intercept\n",
    "    b_total = f_total.slope\n",
    "\n",
    "    scaled = 100 * ((total / (c_total * (bm**b_total))) -1)\n",
    "\n",
    "    print(\"scaled total:\", scaled)\n",
    "\n",
    "    snatch = row['snatch']\n",
    "    c_snatch = 10**f_snatch.intercept\n",
    "    b_snatch = f_snatch.slope\n",
    "\n",
    "    scaled_sn = 100 * ((snatch / (c_snatch * (bm**b_snatch))) -1)\n",
    "\n",
    "    print(\"scaled snatch:\", scaled_sn)\n",
    "\n",
    "    clean = row['clean_and_jerk']\n",
    "    c_clean = 10**f_clean.intercept\n",
    "    b_clean = f_clean.slope\n",
    "\n",
    "    scaled_clean = 100 * ((clean / (c_clean * (bm**b_clean))) -1)\n",
    "\n",
    "    print(\"scaled clean:\", scaled_clean)"
   ],
   "outputs": [
    {
     "output_type": "stream",
     "name": "stdout",
     "text": [
      "scaled total: -3.9966778797506874\n",
      "scaled snatch: -3.2441139539341357\n",
      "scaled clean: -4.788886463622921\n",
      "scaled total: -2.008423495038869\n",
      "scaled snatch: -3.41812168783745\n",
      "scaled clean: -0.26710998735977043\n",
      "scaled total: 0.5144593814684351\n",
      "scaled snatch: -1.1373420852920257\n",
      "scaled clean: 1.676447385982116\n",
      "scaled total: -0.07757551793569073\n",
      "scaled snatch: 0.5363929163931358\n",
      "scaled clean: -0.6984155671367787\n",
      "scaled total: 4.413575026951966\n",
      "scaled snatch: 5.58370570379445\n",
      "scaled clean: 3.3905866858206624\n",
      "scaled total: 6.147373660908406\n",
      "scaled snatch: 7.810554903551137\n",
      "scaled clean: 4.768236477620524\n",
      "scaled total: -4.5079382232921965\n",
      "scaled snatch: -5.416976053284028\n",
      "scaled clean: -3.70876059900187\n"
     ]
    }
   ],
   "metadata": {}
  },
  {
   "cell_type": "code",
   "execution_count": null,
   "source": [],
   "outputs": [],
   "metadata": {}
  }
 ],
 "metadata": {
  "orig_nbformat": 4,
  "language_info": {
   "name": "python",
   "version": "3.8.3",
   "mimetype": "text/x-python",
   "codemirror_mode": {
    "name": "ipython",
    "version": 3
   },
   "pygments_lexer": "ipython3",
   "nbconvert_exporter": "python",
   "file_extension": ".py"
  },
  "kernelspec": {
   "name": "python3",
   "display_name": "Python 3.8.3 64-bit"
  },
  "interpreter": {
   "hash": "aee8b7b246df8f9039afb4144a1f6fd8d2ca17a180786b69acc140d282b71a49"
  }
 },
 "nbformat": 4,
 "nbformat_minor": 2
}